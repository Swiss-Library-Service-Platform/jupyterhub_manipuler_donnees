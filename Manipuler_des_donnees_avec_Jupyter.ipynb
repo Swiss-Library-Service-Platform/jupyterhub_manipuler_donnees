{
 "cells": [
  {
   "cell_type": "markdown",
   "id": "9be4c921",
   "metadata": {
    "slideshow": {
     "slide_type": "slide"
    }
   },
   "source": [
    "# Manipuler des données avec Jupyter Notebook\n",
    "## Raphaël Rey\n",
    "## ACEF 2023"
   ]
  },
  {
   "cell_type": "markdown",
   "id": "33bb8b48",
   "metadata": {
    "slideshow": {
     "slide_type": "slide"
    }
   },
   "source": [
    "# Jupyter Notebook\n",
    "* Environnement **interactif** pour exécuter des codes en python dans son navigateur\n",
    "* Très utilisé en science des données\n",
    "* Et bien d'autres possibilités"
   ]
  },
  {
   "cell_type": "markdown",
   "id": "766ff627",
   "metadata": {
    "slideshow": {
     "slide_type": "slide"
    }
   },
   "source": [
    "# Un outil pourquoi?\n",
    "* Efficience\n",
    "* Collaborer / partager\n",
    "* Se former\n",
    "* Sécuriser les données"
   ]
  },
  {
   "cell_type": "markdown",
   "id": "1e34beff",
   "metadata": {
    "slideshow": {
     "slide_type": "slide"
    }
   },
   "source": [
    "# Lien avec Alma\n",
    "* Manipulation de données\n",
    "* Utilisation d'APIs"
   ]
  },
  {
   "cell_type": "markdown",
   "id": "70f9e856",
   "metadata": {
    "slideshow": {
     "slide_type": "slide"
    }
   },
   "source": [
    "# Coder en python\n",
    "* Niveau 1: scripts depuis la console\n",
    "* Niveau 2: Jupyter Notebook\n",
    "* Niveau 3: Jupyterhub"
   ]
  },
  {
   "cell_type": "markdown",
   "id": "9bf4ac5d",
   "metadata": {
    "slideshow": {
     "slide_type": "slide"
    }
   },
   "source": [
    "# Installer Jupyter Notebook\n",
    "Plusieurs possibilités:\n",
    "* Anaconda: [https://www.anaconda.com](https://www.anaconda.com)\n",
    "* `pip install jupyter`\n",
    "* Installer sur une machine virtuelle\n",
    "\n",
    "**-> Simple avec quelques connaissances**"
   ]
  },
  {
   "cell_type": "markdown",
   "id": "78ba55ad",
   "metadata": {
    "slideshow": {
     "slide_type": "slide"
    }
   },
   "source": [
    "# Installer Jupyterhub\n",
    "* Requiert un serveur\n",
    "* Possible de déployer dans le cloud (Azure, Amazone, Google, etc.)\n",
    "\n",
    "**-> Requiert des connaissances d'administration de serveurs**"
   ]
  },
  {
   "cell_type": "markdown",
   "id": "ce3cee9c",
   "metadata": {
    "slideshow": {
     "slide_type": "slide"
    }
   },
   "source": [
    "# Avantages de Jupyterhub\n",
    "## Maîtriser et automatiser\n",
    "* Manipulation de données\n",
    "* Simplification de l'utilisation d'APIs\n",
    "* Ecrire du code rapidement et voir aisément le résultat"
   ]
  },
  {
   "cell_type": "markdown",
   "id": "7dc30eb1",
   "metadata": {
    "slideshow": {
     "slide_type": "slide"
    }
   },
   "source": [
    "# Avantages de Jupyterhub\n",
    "## Partager\n",
    "* Partage de scripts utiles pour certains workflows\n",
    "* Matériel de formation\n",
    "\n",
    "**-> Les plus experts fabriquent les outils en permettant aux autres de les utiliser**"
   ]
  },
  {
   "cell_type": "markdown",
   "id": "fa772943",
   "metadata": {
    "slideshow": {
     "slide_type": "slide"
    }
   },
   "source": [
    "# Avantages de Jupyterhub\n",
    "## Sécurité\n",
    "Adresse IP stable en principe pour le serveur -> possible de sécuriser:\n",
    "* Clés API\n",
    "* Serveurs OAI"
   ]
  },
  {
   "cell_type": "markdown",
   "id": "c986999b",
   "metadata": {
    "slideshow": {
     "slide_type": "slide"
    }
   },
   "source": [
    "# Avantages de Jupyterhub\n",
    "## Un serveur c'est pratique\n",
    "* Accès en ligne de commande\n",
    "* Accès SFTP (Filezilla par exemple)\n",
    "* Crontab pour automatiser des processus\n",
    "* Serveur mail (par exemple pour envoyer des mails à la fin des jobs)\n",
    "* Adresse IP fixe (serveur OAI, clés API)\n",
    "* Travaille sans que l'on soit présent"
   ]
  },
  {
   "cell_type": "markdown",
   "id": "1c455bb0",
   "metadata": {
    "slideshow": {
     "slide_type": "slide"
    }
   },
   "source": [
    "# Quelques difficultés\n",
    "* Gestion des droits\n",
    "* Gestion de la mémoire "
   ]
  },
  {
   "cell_type": "markdown",
   "id": "6639a07d",
   "metadata": {
    "slideshow": {
     "slide_type": "slide"
    }
   },
   "source": [
    "# Bibliothèque de liens\n",
    "## SLSP\n",
    "* github SLSP: https://github.com/Swiss-Library-Service-Platform\n",
    "* Almapiwrapper: https://almapi-wrapper.readthedocs.io\n",
    "* Almasru: https://almasru.readthedocs.io\n",
    "\n",
    "## Matériel de formation python\n",
    "* https://github.com/Swiss-Library-Service-Platform/python_training\n",
    "* https://github.com/Raphael-Rey/data_in_libraries"
   ]
  },
  {
   "cell_type": "markdown",
   "id": "56744ca9",
   "metadata": {
    "slideshow": {
     "slide_type": "slide"
    }
   },
   "source": [
    "# Bibliothèque de liens\n",
    "## Jupyter\n",
    "* https://jupyter.org\n",
    "* https://www.anaconda.com\n",
    "\n",
    "## Bibliothèques python\n",
    "* lxml: https://lxml.de\n",
    "* pandas: https://pandas.pydata.org\n",
    "* matplotlib: https://matplotlib.org\n",
    "* seaborn: https://seaborn.pydata.org"
   ]
  },
  {
   "cell_type": "markdown",
   "id": "4d598855",
   "metadata": {
    "slideshow": {
     "slide_type": "slide"
    }
   },
   "source": [
    "# Merci pour votre attention\n",
    "## Vos questions sont les bienvenues !\n",
    "Raphaël Rey ([raphael.rey@slsp.ch](mailto:raphael.rey@slsp.ch))"
   ]
  }
 ],
 "metadata": {
  "celltoolbar": "Slideshow",
  "kernelspec": {
   "display_name": "Python 3 (ipykernel)",
   "language": "python",
   "name": "python3"
  },
  "language_info": {
   "codemirror_mode": {
    "name": "ipython",
    "version": 3
   },
   "file_extension": ".py",
   "mimetype": "text/x-python",
   "name": "python",
   "nbconvert_exporter": "python",
   "pygments_lexer": "ipython3",
   "version": "3.9.7"
  }
 },
 "nbformat": 4,
 "nbformat_minor": 5
}
